{
  "nbformat": 4,
  "nbformat_minor": 0,
  "metadata": {
    "colab": {
      "provenance": [],
      "authorship_tag": "ABX9TyO+n4H9YqP9e1LPVXmR26Qx",
      "include_colab_link": true
    },
    "kernelspec": {
      "name": "python3",
      "display_name": "Python 3"
    },
    "language_info": {
      "name": "python"
    }
  },
  "cells": [
    {
      "cell_type": "markdown",
      "metadata": {
        "id": "view-in-github",
        "colab_type": "text"
      },
      "source": [
        "<a href=\"https://colab.research.google.com/github/mahmoudarekat/ChicagoCrime/blob/main/ChicagoCrimeData.ipynb\" target=\"_parent\"><img src=\"https://colab.research.google.com/assets/colab-badge.svg\" alt=\"Open In Colab\"/></a>"
      ]
    },
    {
      "cell_type": "code",
      "execution_count": null,
      "metadata": {
        "id": "ulHH3-LnWhvp"
      },
      "outputs": [],
      "source": [
        "import pandas as pd\n",
        "import numpy as np\n",
        "import matplotlib as mpl\n",
        "import matplotlib.pyplot as plt\n",
        "import seaborn as sns\n",
        "import os\n",
        "import pytz\n",
        "#import tick customization tools\n",
        "import matplotlib.ticker as mticks\n",
        "import matplotlib.dates as mdates\n",
        "## Setting figures to timeseries-friendly\n",
        "plt.rcParams['figure.figsize'] = (12,4)\n",
        "plt.rcParams['figure.facecolor'] = 'white'\n",
        "sns.set_context(\"talk\", font_scale=0.9)\n",
        "# set random seed\n",
        "SEED = 321\n",
        "np.random.seed(SEED)\n",
        "#display more columns\n",
        "pd.set_option('display.max_columns',50)"
      ]
    }
  ]
}